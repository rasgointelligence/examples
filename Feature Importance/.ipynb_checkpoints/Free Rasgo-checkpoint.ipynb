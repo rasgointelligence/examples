{
 "cells": [
  {
   "cell_type": "markdown",
   "metadata": {},
   "source": [
    "<h2><b>0) install PyRasgo with extra [df] dependencies</b></h2>"
   ]
  },
  {
   "cell_type": "code",
   "execution_count": null,
   "metadata": {},
   "outputs": [],
   "source": [
    "!pip install pyrasgo[df] --upgrade"
   ]
  },
  {
   "cell_type": "code",
   "execution_count": 18,
   "metadata": {},
   "outputs": [],
   "source": [
    "import pyrasgo\n",
    "import pandas as pd\n",
    "import numpy as np"
   ]
  },
  {
   "cell_type": "markdown",
   "metadata": {},
   "source": [
    "<h2><b>1) Register for Rasgo or copy your api key from the <a href=\"https://app.rasgoml.com/\">Rasgo UI</a> and paste below</b></h2>"
   ]
  },
  {
   "cell_type": "code",
   "execution_count": 5,
   "metadata": {},
   "outputs": [],
   "source": [
    "#paste your API key here if you have one already\n",
    "api_key=''\n",
    "rasgo = pyrasgo.connect(api_key)"
   ]
  },
  {
   "cell_type": "code",
   "execution_count": null,
   "metadata": {},
   "outputs": [],
   "source": [
    "#otherwise, register for a free Rasgo API Key\n",
    "pyrasgo.register(email=\"fred@flinstone.com\", password=\"\")\n",
    "\n",
    "#login and pyrasgo will retrieve your API key for you\n",
    "rasgo = pyrasgo.login(email=\"fred@flinstone.com\", password=\"\")"
   ]
  },
  {
   "cell_type": "markdown",
   "metadata": {},
   "source": [
    "<h2><b>2) get a dataframe from somewhere :) </b></h2>"
   ]
  },
  {
   "cell_type": "code",
   "execution_count": 46,
   "metadata": {},
   "outputs": [
    {
     "data": {
      "text/html": [
       "<div>\n",
       "<style scoped>\n",
       "    .dataframe tbody tr th:only-of-type {\n",
       "        vertical-align: middle;\n",
       "    }\n",
       "\n",
       "    .dataframe tbody tr th {\n",
       "        vertical-align: top;\n",
       "    }\n",
       "\n",
       "    .dataframe thead th {\n",
       "        text-align: right;\n",
       "    }\n",
       "</style>\n",
       "<table border=\"1\" class=\"dataframe\">\n",
       "  <thead>\n",
       "    <tr style=\"text-align: right;\">\n",
       "      <th></th>\n",
       "      <th>DATE</th>\n",
       "      <th>FIPS</th>\n",
       "      <th>DS_TEMP_VARIATION_PREVIOUS_DAY</th>\n",
       "      <th>DS_DAILY_CLOUDCOVER</th>\n",
       "      <th>DS_WEATHER_ICON</th>\n",
       "      <th>DS_DAILY_LOW_TEMP</th>\n",
       "      <th>DS_DAILY_HIGH_TEMP</th>\n",
       "      <th>DS_DAILY_TOTAL_RAINFALL</th>\n",
       "      <th>STORE_BRAND_ID</th>\n",
       "      <th>TOTAL_TRAFFIC</th>\n",
       "      <th>DINEIN_TRAFFIC</th>\n",
       "      <th>DRIVETHRU_TRAFFIC</th>\n",
       "    </tr>\n",
       "  </thead>\n",
       "  <tbody>\n",
       "    <tr>\n",
       "      <th>0</th>\n",
       "      <td>11/21/20</td>\n",
       "      <td>6077</td>\n",
       "      <td>-1.12</td>\n",
       "      <td>0.18</td>\n",
       "      <td>clear-day</td>\n",
       "      <td>32.24</td>\n",
       "      <td>62.27</td>\n",
       "      <td>0.00003</td>\n",
       "      <td>3-1100801</td>\n",
       "      <td>258</td>\n",
       "      <td>9</td>\n",
       "      <td>218</td>\n",
       "    </tr>\n",
       "    <tr>\n",
       "      <th>1</th>\n",
       "      <td>11/21/20</td>\n",
       "      <td>6077</td>\n",
       "      <td>-1.12</td>\n",
       "      <td>0.18</td>\n",
       "      <td>clear-day</td>\n",
       "      <td>32.24</td>\n",
       "      <td>62.27</td>\n",
       "      <td>0.00003</td>\n",
       "      <td>3-1100308</td>\n",
       "      <td>311</td>\n",
       "      <td>4</td>\n",
       "      <td>238</td>\n",
       "    </tr>\n",
       "    <tr>\n",
       "      <th>2</th>\n",
       "      <td>11/22/20</td>\n",
       "      <td>6077</td>\n",
       "      <td>3.26</td>\n",
       "      <td>0.26</td>\n",
       "      <td>clear-day</td>\n",
       "      <td>32.62</td>\n",
       "      <td>65.53</td>\n",
       "      <td>0.00005</td>\n",
       "      <td>3-1100801</td>\n",
       "      <td>225</td>\n",
       "      <td>7</td>\n",
       "      <td>197</td>\n",
       "    </tr>\n",
       "    <tr>\n",
       "      <th>3</th>\n",
       "      <td>11/22/20</td>\n",
       "      <td>6077</td>\n",
       "      <td>3.26</td>\n",
       "      <td>0.26</td>\n",
       "      <td>clear-day</td>\n",
       "      <td>32.62</td>\n",
       "      <td>65.53</td>\n",
       "      <td>0.00005</td>\n",
       "      <td>3-1100308</td>\n",
       "      <td>246</td>\n",
       "      <td>0</td>\n",
       "      <td>186</td>\n",
       "    </tr>\n",
       "    <tr>\n",
       "      <th>4</th>\n",
       "      <td>11/27/20</td>\n",
       "      <td>6077</td>\n",
       "      <td>-2.07</td>\n",
       "      <td>0.05</td>\n",
       "      <td>clear-day</td>\n",
       "      <td>32.25</td>\n",
       "      <td>63.90</td>\n",
       "      <td>0.00002</td>\n",
       "      <td>3-1100801</td>\n",
       "      <td>227</td>\n",
       "      <td>5</td>\n",
       "      <td>189</td>\n",
       "    </tr>\n",
       "    <tr>\n",
       "      <th>...</th>\n",
       "      <td>...</td>\n",
       "      <td>...</td>\n",
       "      <td>...</td>\n",
       "      <td>...</td>\n",
       "      <td>...</td>\n",
       "      <td>...</td>\n",
       "      <td>...</td>\n",
       "      <td>...</td>\n",
       "      <td>...</td>\n",
       "      <td>...</td>\n",
       "      <td>...</td>\n",
       "      <td>...</td>\n",
       "    </tr>\n",
       "    <tr>\n",
       "      <th>24654</th>\n",
       "      <td>3/2/20</td>\n",
       "      <td>53033</td>\n",
       "      <td>3.23</td>\n",
       "      <td>0.91</td>\n",
       "      <td>rain</td>\n",
       "      <td>30.88</td>\n",
       "      <td>40.62</td>\n",
       "      <td>0.03516</td>\n",
       "      <td>3-1101688</td>\n",
       "      <td>203</td>\n",
       "      <td>32</td>\n",
       "      <td>144</td>\n",
       "    </tr>\n",
       "    <tr>\n",
       "      <th>24655</th>\n",
       "      <td>3/2/20</td>\n",
       "      <td>53033</td>\n",
       "      <td>3.23</td>\n",
       "      <td>0.91</td>\n",
       "      <td>rain</td>\n",
       "      <td>30.88</td>\n",
       "      <td>40.62</td>\n",
       "      <td>0.03516</td>\n",
       "      <td>Jan-72</td>\n",
       "      <td>197</td>\n",
       "      <td>35</td>\n",
       "      <td>96</td>\n",
       "    </tr>\n",
       "    <tr>\n",
       "      <th>24656</th>\n",
       "      <td>3/2/20</td>\n",
       "      <td>53033</td>\n",
       "      <td>3.23</td>\n",
       "      <td>0.91</td>\n",
       "      <td>rain</td>\n",
       "      <td>30.88</td>\n",
       "      <td>40.62</td>\n",
       "      <td>0.03516</td>\n",
       "      <td>Jan-71</td>\n",
       "      <td>267</td>\n",
       "      <td>42</td>\n",
       "      <td>121</td>\n",
       "    </tr>\n",
       "    <tr>\n",
       "      <th>24657</th>\n",
       "      <td>3/2/20</td>\n",
       "      <td>53033</td>\n",
       "      <td>3.23</td>\n",
       "      <td>0.91</td>\n",
       "      <td>rain</td>\n",
       "      <td>30.88</td>\n",
       "      <td>40.62</td>\n",
       "      <td>0.03516</td>\n",
       "      <td>1-1627</td>\n",
       "      <td>167</td>\n",
       "      <td>80</td>\n",
       "      <td>0</td>\n",
       "    </tr>\n",
       "    <tr>\n",
       "      <th>24658</th>\n",
       "      <td>3/2/20</td>\n",
       "      <td>53033</td>\n",
       "      <td>3.23</td>\n",
       "      <td>0.91</td>\n",
       "      <td>rain</td>\n",
       "      <td>30.88</td>\n",
       "      <td>40.62</td>\n",
       "      <td>0.03516</td>\n",
       "      <td>3-1101754</td>\n",
       "      <td>201</td>\n",
       "      <td>41</td>\n",
       "      <td>132</td>\n",
       "    </tr>\n",
       "  </tbody>\n",
       "</table>\n",
       "<p>24659 rows × 12 columns</p>\n",
       "</div>"
      ],
      "text/plain": [
       "           DATE   FIPS  DS_TEMP_VARIATION_PREVIOUS_DAY  DS_DAILY_CLOUDCOVER  \\\n",
       "0      11/21/20   6077                           -1.12                 0.18   \n",
       "1      11/21/20   6077                           -1.12                 0.18   \n",
       "2      11/22/20   6077                            3.26                 0.26   \n",
       "3      11/22/20   6077                            3.26                 0.26   \n",
       "4      11/27/20   6077                           -2.07                 0.05   \n",
       "...         ...    ...                             ...                  ...   \n",
       "24654    3/2/20  53033                            3.23                 0.91   \n",
       "24655    3/2/20  53033                            3.23                 0.91   \n",
       "24656    3/2/20  53033                            3.23                 0.91   \n",
       "24657    3/2/20  53033                            3.23                 0.91   \n",
       "24658    3/2/20  53033                            3.23                 0.91   \n",
       "\n",
       "      DS_WEATHER_ICON  DS_DAILY_LOW_TEMP  DS_DAILY_HIGH_TEMP  \\\n",
       "0           clear-day              32.24               62.27   \n",
       "1           clear-day              32.24               62.27   \n",
       "2           clear-day              32.62               65.53   \n",
       "3           clear-day              32.62               65.53   \n",
       "4           clear-day              32.25               63.90   \n",
       "...               ...                ...                 ...   \n",
       "24654            rain              30.88               40.62   \n",
       "24655            rain              30.88               40.62   \n",
       "24656            rain              30.88               40.62   \n",
       "24657            rain              30.88               40.62   \n",
       "24658            rain              30.88               40.62   \n",
       "\n",
       "       DS_DAILY_TOTAL_RAINFALL STORE_BRAND_ID  TOTAL_TRAFFIC  DINEIN_TRAFFIC  \\\n",
       "0                      0.00003      3-1100801            258               9   \n",
       "1                      0.00003      3-1100308            311               4   \n",
       "2                      0.00005      3-1100801            225               7   \n",
       "3                      0.00005      3-1100308            246               0   \n",
       "4                      0.00002      3-1100801            227               5   \n",
       "...                        ...            ...            ...             ...   \n",
       "24654                  0.03516      3-1101688            203              32   \n",
       "24655                  0.03516         Jan-72            197              35   \n",
       "24656                  0.03516         Jan-71            267              42   \n",
       "24657                  0.03516         1-1627            167              80   \n",
       "24658                  0.03516      3-1101754            201              41   \n",
       "\n",
       "       DRIVETHRU_TRAFFIC  \n",
       "0                    218  \n",
       "1                    238  \n",
       "2                    197  \n",
       "3                    186  \n",
       "4                    189  \n",
       "...                  ...  \n",
       "24654                144  \n",
       "24655                 96  \n",
       "24656                121  \n",
       "24657                  0  \n",
       "24658                132  \n",
       "\n",
       "[24659 rows x 12 columns]"
      ]
     },
     "execution_count": 46,
     "metadata": {},
     "output_type": "execute_result"
    }
   ],
   "source": [
    "df = pd.read_csv('sample-sales-data.csv')#, parse_dates=['DATE'])\n",
    "df"
   ]
  },
  {
   "cell_type": "markdown",
   "metadata": {},
   "source": [
    "<h2><b>3) pick a target feature</b></h2>"
   ]
  },
  {
   "cell_type": "code",
   "execution_count": 47,
   "metadata": {},
   "outputs": [],
   "source": [
    "target = 'TOTAL_TRAFFIC'\n",
    "\n",
    "#exclude both dimensions and leakage features\n",
    "exclude_list = ['STORE_BRAND_ID', 'DATE', 'FIPS','DINEIN_TRAFFIC','DRIVETHRU_TRAFFIC']"
   ]
  },
  {
   "cell_type": "markdown",
   "metadata": {},
   "source": [
    "<h2><b>4) profile & evaluate your features!</b></h2>"
   ]
  },
  {
   "cell_type": "code",
   "execution_count": 48,
   "metadata": {},
   "outputs": [],
   "source": [
    "r = rasgo.evaluate.profile(df)"
   ]
  },
  {
   "cell_type": "code",
   "execution_count": 22,
   "metadata": {},
   "outputs": [
    {
     "name": "stdout",
     "output_type": "stream",
     "text": [
      "                                                                               \r"
     ]
    }
   ],
   "source": [
    "r = rasgo.evaluate.feature_importance(df, target_column=target, exclude_columns=exclude_list)"
   ]
  },
  {
   "cell_type": "markdown",
   "metadata": {},
   "source": [
    "<h2><b>5) create some new features & re-evaluate!</b></h2>\n"
   ]
  },
  {
   "cell_type": "code",
   "execution_count": 23,
   "metadata": {},
   "outputs": [],
   "source": [
    "#some lag features\n",
    "df['7DAYLAG_TRAFFIC'] = df.groupby(['DATE','FIPS'])['TOTAL_TRAFFIC'].shift(7)\n",
    "df['1DAYLAG_TRAFFIC'] = df.groupby(['DATE','FIPS'])['TOTAL_TRAFFIC'].shift(1)\n",
    "\n",
    "df['7DAYLAG_DRIVETHRU'] = df.groupby(['DATE','FIPS'])['DRIVETHRU_TRAFFIC'].shift(7)\n",
    "df['1DAYLAG_DRIVETHRU'] = df.groupby(['DATE','FIPS'])['DRIVETHRU_TRAFFIC'].shift(1)"
   ]
  },
  {
   "cell_type": "code",
   "execution_count": 24,
   "metadata": {},
   "outputs": [
    {
     "name": "stdout",
     "output_type": "stream",
     "text": [
      "                                                                               \r"
     ]
    }
   ],
   "source": [
    "r = rasgo.evaluate.feature_importance(df, target_column=target, exclude_columns=exclude_list)"
   ]
  },
  {
   "cell_type": "code",
   "execution_count": 29,
   "metadata": {},
   "outputs": [],
   "source": [
    "#ratio and moving avg features\n",
    "df['YESTERDAY_PERCENTDRIVETHRU'] = df['1DAYLAG_DRIVETHRU']/df['1DAYLAG_TRAFFIC']\n",
    "df['7DayMovingAvgTraffic'] = df.groupby(['DATE','FIPS'])['TOTAL_TRAFFIC'].transform(lambda x: x.rolling(7, 1, closed='neither').mean())"
   ]
  },
  {
   "cell_type": "code",
   "execution_count": 30,
   "metadata": {},
   "outputs": [
    {
     "name": "stdout",
     "output_type": "stream",
     "text": [
      "                                                                               \r"
     ]
    }
   ],
   "source": [
    "r = rasgo.evaluate.feature_importance(df, target_column=target, exclude_columns=exclude_list)"
   ]
  },
  {
   "cell_type": "code",
   "execution_count": 44,
   "metadata": {},
   "outputs": [],
   "source": [
    "#some more features\n",
    "#df['WEEKDAY'] = np.where((df['DATE']).dt.dayofweek < 5,0,1)\n",
    "df['RainBin'] = np.where(df['DS_DAILY_TOTAL_RAINFALL']>.02, 'Rain', 'No Rain')"
   ]
  },
  {
   "cell_type": "code",
   "execution_count": 49,
   "metadata": {},
   "outputs": [
    {
     "name": "stdout",
     "output_type": "stream",
     "text": [
      "                                                                               \r"
     ]
    }
   ],
   "source": [
    "r = rasgo.evaluate.feature_importance(df, target_column=target, exclude_columns=exclude_list)"
   ]
  },
  {
   "cell_type": "markdown",
   "metadata": {},
   "source": [
    "<h2><b>6) prune your features and create your train and test sets</b></h2>"
   ]
  },
  {
   "cell_type": "code",
   "execution_count": 53,
   "metadata": {},
   "outputs": [
    {
     "name": "stdout",
     "output_type": "stream",
     "text": [
      "Prune Method: Keeping features with importance above 0.1 pct of max feature\n",
      "Dropped features below importance threshold 1.472474403435804: []              \n"
     ]
    }
   ],
   "source": [
    "df = rasgo.prune.features(df, target_column=target, pct_of_top_feature=.05, exclude_columns=exclude_list)"
   ]
  },
  {
   "cell_type": "code",
   "execution_count": 16,
   "metadata": {},
   "outputs": [
    {
     "name": "stdout",
     "output_type": "stream",
     "text": [
      "                                                                               \r"
     ]
    }
   ],
   "source": [
    "r = rasgo.evaluate.feature_importance(df, target_column=target, exclude_columns=exclude_list)"
   ]
  },
  {
   "cell_type": "code",
   "execution_count": 51,
   "metadata": {},
   "outputs": [],
   "source": [
    "train_df, backtest_df = rasgo.evaluate.train_test_split(df, training_percentage=.8, timeseries_index='DATE')"
   ]
  },
  {
   "cell_type": "code",
   "execution_count": null,
   "metadata": {},
   "outputs": [],
   "source": []
  }
 ],
 "metadata": {
  "kernelspec": {
   "display_name": "Python 3",
   "language": "python",
   "name": "python3"
  },
  "language_info": {
   "codemirror_mode": {
    "name": "ipython",
    "version": 3
   },
   "file_extension": ".py",
   "mimetype": "text/x-python",
   "name": "python",
   "nbconvert_exporter": "python",
   "pygments_lexer": "ipython3",
   "version": "3.8.2"
  }
 },
 "nbformat": 4,
 "nbformat_minor": 2
}
